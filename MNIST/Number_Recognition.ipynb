{
 "cells": [
  {
   "cell_type": "markdown",
   "metadata": {},
   "source": [
    "# MNIST database image recognition\n",
    "In this example we will define and train a neural network to recognise handwritten numbers. First, we import the libraries that we will be using."
   ]
  },
  {
   "cell_type": "code",
   "execution_count": 1,
   "metadata": {},
   "outputs": [],
   "source": [
    "import torch\n",
    "import torch.nn as nn\n",
    "import torch.optim as optim\n",
    "import numpy as np\n",
    "import matplotlib.pyplot as plt"
   ]
  },
  {
   "cell_type": "markdown",
   "metadata": {},
   "source": [
    "Now we can read the .csv files containing the MNIST labeled handwritten numbers dataset."
   ]
  },
  {
   "cell_type": "code",
   "execution_count": 2,
   "metadata": {},
   "outputs": [
    {
     "name": "stdout",
     "output_type": "stream",
     "text": [
      "Loading the training data...\n",
      "Loaded training array of dimensions 60000x785\n",
      "Loading the test data...\n",
      "Loaded test array of dimensions 10000x785\n"
     ]
    }
   ],
   "source": [
    "image_size = 28 # width and length of the images in pixels\n",
    "data_path = \"numbers/\" # path of the .csv files with the numbers and labels\n",
    "\n",
    "# We load the training data as a numpy array. This array includes the label in the first position.\n",
    "print('Loading the training data...')\n",
    "train_data = np.loadtxt(data_path + \"mnist_train.csv\", \n",
    "                        delimiter=\",\")\n",
    "print('Loaded training array of dimensions {}x{}'.format(np.shape(train_data)[0],np.shape(train_data)[1]))\n",
    "\n",
    "# We load the test data as a numpy array. This array includes the label in the first position.\n",
    "print('Loading the test data...')\n",
    "test_data = np.loadtxt(data_path + \"mnist_test.csv\", \n",
    "                       delimiter=\",\")\n",
    "print('Loaded test array of dimensions {}x{}'.format(np.shape(test_data)[0],np.shape(test_data)[1]))\n",
    "\n",
    "\n",
    "\n",
    "# Translate the labels of each image in the training dataset (number from 0 to 9)\n",
    "# to an array filled with zeros and a 1 in the position of the label\n",
    "auxiliar_train = np.zeros((len(train_data), 10))\n",
    "for i in range(len(train_data)):\n",
    "    value = int(train_data[i,0])\n",
    "    auxiliar_train[i,value] = 1\n",
    "\n",
    "# Translate the labels of each image in the test dataset (number from 0 to 9)\n",
    "# to an array filled with zeros and a 1 in the position of the label\n",
    "auxiliar_test = np.zeros((len(test_data), 10))\n",
    "for i in range(len(test_data)):\n",
    "    value = int(test_data[i,0])\n",
    "    auxiliar_test[i,value] = 1\n",
    "\n",
    "    \n",
    "    \n",
    "# Save the images (normalised) and labels as PyTorch tensors\n",
    "train_labels = torch.Tensor(auxiliar_train)\n",
    "train_images = torch.Tensor(train_data[:,1:])/255.\n",
    "test_labels = torch.Tensor(auxiliar_test)\n",
    "test_images = torch.Tensor(test_data[:,1:])/255."
   ]
  },
  {
   "cell_type": "markdown",
   "metadata": {},
   "source": [
    "We can check the dimensions of our train_images array"
   ]
  },
  {
   "cell_type": "code",
   "execution_count": 4,
   "metadata": {},
   "outputs": [
    {
     "data": {
      "text/plain": [
       "torch.Size([60000, 784])"
      ]
     },
     "execution_count": 4,
     "metadata": {},
     "output_type": "execute_result"
    }
   ],
   "source": [
    "train_images.size()"
   ]
  },
  {
   "cell_type": "markdown",
   "metadata": {},
   "source": [
    "It is easy to show the image of one element of the dataset. We just have to reshape one of the elements of train_images/test_images to dimension 28x28, since in the database they are flattened to be of dimension 784."
   ]
  },
  {
   "cell_type": "code",
   "execution_count": 5,
   "metadata": {},
   "outputs": [
    {
     "name": "stdout",
     "output_type": "stream",
     "text": [
      "Label: tensor([0., 0., 0., 0., 0., 0., 0., 0., 1., 0.])\n"
     ]
    },
    {
     "data": {
      "image/png": "[encoded data removed]",
      "text/plain": [
       "<Figure size 432x288 with 1 Axes>"
      ]
     },
     "metadata": {
      "needs_background": "light"
     },
     "output_type": "display_data"
    }
   ],
   "source": [
    "# Select a random element of the database\n",
    "index = np.random.randint(0,60000)\n",
    "plt.gray()\n",
    "# Show the reshaped tensor as a 28x28 image\n",
    "plt.imshow(train_images[index].view(image_size, image_size))\n",
    "print('Label: {}'.format(train_labels[index]))"
   ]
  },
  {
   "cell_type": "markdown",
   "metadata": {},
   "source": [
    "Now we have to define our neural network. The process is similar to the previous single neuron case, but now we will have an input of dimension image_size*image_size for the first layer and we will have four hidden layers. The number in the output of one of the hidden layers must be equal to the number in the input of the next hidden layer."
   ]
  },
  {
   "cell_type": "code",
   "execution_count": 6,
   "metadata": {},
   "outputs": [],
   "source": [
    "class Net(nn.Module):\n",
    "    def __init__(self):\n",
    "        super().__init__()\n",
    "        self.main = nn.Sequential(\n",
    "            # Hidden layer of 256 neurons\n",
    "            nn.Linear(image_size*image_size, 256),\n",
    "            nn.ReLU(),\n",
    "            # Hidden layer of 128 neurons\n",
    "            nn.Linear(256, 128),\n",
    "            nn.ReLU(),\n",
    "            # Hidden layer of 64 neurons\n",
    "            nn.Linear(128, 64),\n",
    "            nn.ReLU(),\n",
    "            # Output\n",
    "            nn.Linear(64, 10),\n",
    "            )\n",
    "                \n",
    "    def forward(self, input):\n",
    "            output = self.main(input)\n",
    "            output = torch.tanh(output)\n",
    "            return output        "
   ]
  },
  {
   "cell_type": "markdown",
   "metadata": {},
   "source": [
    "This neural network is initialised randomly. Thus, if we pass one of the numbers from the dataset through it, the output will be random."
   ]
  },
  {
   "cell_type": "code",
   "execution_count": 7,
   "metadata": {},
   "outputs": [
    {
     "name": "stdout",
     "output_type": "stream",
     "text": [
      "tensor([ 0.0174,  0.1559, -0.0175,  0.0738,  0.0313,  0.0226, -0.0994,  0.1603,\n",
      "        -0.0942,  0.0058], grad_fn=<TanhBackward>)\n"
     ]
    }
   ],
   "source": [
    "net = Net()\n",
    "print(net(train_images[1]))"
   ]
  },
  {
   "cell_type": "markdown",
   "metadata": {},
   "source": [
    "Now we just have to define the optimizer (we will use the \"Adam\" optimizer) and the criterion (MSELoss)"
   ]
  },
  {
   "cell_type": "code",
   "execution_count": 8,
   "metadata": {},
   "outputs": [],
   "source": [
    "optimizer = optim.Adam(net.parameters(), lr=0.001)\n",
    "criterion = nn.MSELoss()"
   ]
  },
  {
   "cell_type": "markdown",
   "metadata": {},
   "source": [
    "Instead of training the neural network image by image, we will use batches of several images. We will pass a batch to the neural network, accumulate the gradients, and once the batch is completed we will perform the backpropagation."
   ]
  },
  {
   "cell_type": "code",
   "execution_count": 9,
   "metadata": {},
   "outputs": [
    {
     "name": "stdout",
     "output_type": "stream",
     "text": [
      "torch.Size([20, 10])\n"
     ]
    }
   ],
   "source": [
    "# Example of a batch of 10 images\n",
    "batch = train_images[0:20]\n",
    "# Print the output of the batch through the network\n",
    "print(net(batch).size())"
   ]
  },
  {
   "cell_type": "markdown",
   "metadata": {},
   "source": [
    "The result is a tensor of twenty results (the batch size that we used) of ten components each (the possible number outputs). Now we have everything ready to perform the training process"
   ]
  },
  {
   "cell_type": "code",
   "execution_count": 10,
   "metadata": {},
   "outputs": [
    {
     "name": "stdout",
     "output_type": "stream",
     "text": [
      "Epoch 2 // Step 599/600\r"
     ]
    }
   ],
   "source": [
    "BATCH_SIZE = 100\n",
    "EPOCHS = 3\n",
    "\n",
    "for epoch in range(EPOCHS):\n",
    "    for i in range(0, len(train_labels), BATCH_SIZE):\n",
    "        batch_images = train_images[i:i+BATCH_SIZE]\n",
    "        batch_labels = train_labels[i:i+BATCH_SIZE]\n",
    "        \n",
    "        net.zero_grad()\n",
    "        \n",
    "        outputs = net(batch_images)\n",
    "        \n",
    "        loss = criterion(outputs, batch_labels)\n",
    "        loss.backward()\n",
    "        \n",
    "        optimizer.step()\n",
    "        print('Epoch {} // Step {}/{}'.format(epoch, int(i/BATCH_SIZE), int(len(train_labels)/BATCH_SIZE)), end='\\r')"
   ]
  },
  {
   "cell_type": "markdown",
   "metadata": {},
   "source": [
    "After the training we can check the performance of the neural network by using the test dataset that we created. We are going to count the total of correct answers given by the neural network and save the index of the incorrect guesses for posterior visualization"
   ]
  },
  {
   "cell_type": "code",
   "execution_count": 11,
   "metadata": {},
   "outputs": [
    {
     "name": "stdout",
     "output_type": "stream",
     "text": [
      "0.9771\n"
     ]
    }
   ],
   "source": [
    "correct = 0\n",
    "total = 0\n",
    "error = []\n",
    "with torch.no_grad():\n",
    "    for i in range(len(test_images)):\n",
    "        real_class = torch.argmax(test_labels[i])\n",
    "        out = net(test_images[i])\n",
    "        predicted = torch.argmax(out)\n",
    "        if predicted == real_class:\n",
    "            correct +=1\n",
    "        else:\n",
    "            error.append(i)\n",
    "        total +=1\n",
    "print(correct/total)"
   ]
  },
  {
   "cell_type": "code",
   "execution_count": 12,
   "metadata": {},
   "outputs": [
    {
     "name": "stdout",
     "output_type": "stream",
     "text": [
      "True value: 9\n",
      "Neural network outcome 4\n"
     ]
    },
    {
     "data": {
      "image/png": "[encoded data removed]",
      "text/plain": [
       "<Figure size 432x288 with 1 Axes>"
      ]
     },
     "metadata": {
      "needs_background": "light"
     },
     "output_type": "display_data"
    }
   ],
   "source": [
    "error_number = 5\n",
    "plt.imshow(test_images[error[error_number]].view(28,28))\n",
    "print(\"True value: {}\".format(torch.argmax(test_labels[error[error_number]])))\n",
    "print(\"Neural network outcome {}\".format(torch.argmax(net(test_images[error[error_number]]))))"
   ]
  },
  {
   "cell_type": "code",
   "execution_count": null,
   "metadata": {},
   "outputs": [],
   "source": []
  }
 ],
 "metadata": {
  "kernelspec": {
   "display_name": "Python 3",
   "language": "python",
   "name": "python3"
  },
  "language_info": {
   "codemirror_mode": {
    "name": "ipython",
    "version": 3
   },
   "file_extension": ".py",
   "mimetype": "text/x-python",
   "name": "python",
   "nbconvert_exporter": "python",
   "pygments_lexer": "ipython3",
   "version": "3.7.6"
  }
 },
 "nbformat": 4,
 "nbformat_minor": 2
}
