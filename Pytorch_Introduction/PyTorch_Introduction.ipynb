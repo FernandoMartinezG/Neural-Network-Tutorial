{
 "cells": [
  {
   "cell_type": "markdown",
   "metadata": {},
   "source": [
    "# PyTorch basics\n",
    "PyTorch is a Python library that includes several functionalities to simplify the programming and training of neural networks. It also includes a simple way of performing the calculations required for the training process in a CUDA GPU (Nvidia) if available, making the process considerably faster than in a CPU.\n",
    "\n",
    "PyTorch tensors are very similar to NumPy arrays, but they include additional features to simplify the definition of your neural network and perform calculations in a GPU. Let us see some basic tensor definitions. First, we have to import the **torch** package"
   ]
  },
  {
   "cell_type": "code",
   "execution_count": 1,
   "metadata": {},
   "outputs": [],
   "source": [
    "import torch\n",
    "import numpy as np"
   ]
  },
  {
   "cell_type": "markdown",
   "metadata": {},
   "source": [
    "Now we can define a tensor with random values (between 0 and 1). We will make one of dimensions 6"
   ]
  },
  {
   "cell_type": "code",
   "execution_count": 2,
   "metadata": {},
   "outputs": [
    {
     "name": "stdout",
     "output_type": "stream",
     "text": [
      "tensor([0.6033, 0.8453, 0.1997, 0.7797, 0.2916, 0.4091])\n"
     ]
    }
   ],
   "source": [
    "x = torch.rand(6)\n",
    "print(x)"
   ]
  },
  {
   "cell_type": "markdown",
   "metadata": {},
   "source": [
    "We can reshape this tensor by using the **view()** function"
   ]
  },
  {
   "cell_type": "code",
   "execution_count": 3,
   "metadata": {},
   "outputs": [
    {
     "name": "stdout",
     "output_type": "stream",
     "text": [
      "tensor([[0.6033, 0.8453, 0.1997],\n",
      "        [0.7797, 0.2916, 0.4091]])\n"
     ]
    }
   ],
   "source": [
    "x = x.view(2,3)\n",
    "print(x)"
   ]
  },
  {
   "cell_type": "markdown",
   "metadata": {},
   "source": [
    "The elements of a tensor can be obtained the same way as with NumPy arrays"
   ]
  },
  {
   "cell_type": "code",
   "execution_count": 4,
   "metadata": {},
   "outputs": [
    {
     "name": "stdout",
     "output_type": "stream",
     "text": [
      "tensor(0.6033)\n",
      "tensor([0.6033, 0.7797])\n"
     ]
    }
   ],
   "source": [
    "print(x[0,0])\n",
    "print(x[:,0])"
   ]
  },
  {
   "cell_type": "markdown",
   "metadata": {},
   "source": [
    "The dimensions of the tensor can be obtained by using the **size()** function"
   ]
  },
  {
   "cell_type": "code",
   "execution_count": 5,
   "metadata": {},
   "outputs": [
    {
     "name": "stdout",
     "output_type": "stream",
     "text": [
      "torch.Size([2, 3])\n"
     ]
    }
   ],
   "source": [
    "print(x.size())"
   ]
  },
  {
   "cell_type": "markdown",
   "metadata": {},
   "source": [
    "Similar to NumPy, PyTorch includes functions to create tensors with all the elements equal to 0 or 1"
   ]
  },
  {
   "cell_type": "code",
   "execution_count": 6,
   "metadata": {},
   "outputs": [
    {
     "name": "stdout",
     "output_type": "stream",
     "text": [
      "tensor([[1., 1., 1.],\n",
      "        [1., 1., 1.],\n",
      "        [1., 1., 1.]])\n",
      "tensor([[0., 0., 0.],\n",
      "        [0., 0., 0.],\n",
      "        [0., 0., 0.]])\n"
     ]
    }
   ],
   "source": [
    "print(torch.ones(3,3))\n",
    "print(torch.zeros(3,3))"
   ]
  },
  {
   "cell_type": "markdown",
   "metadata": {},
   "source": [
    "We can change between tensors and arrays easily by using **numpy()** and **torch.from_numpy()**"
   ]
  },
  {
   "cell_type": "code",
   "execution_count": 7,
   "metadata": {},
   "outputs": [
    {
     "name": "stdout",
     "output_type": "stream",
     "text": [
      "[[0.60331374 0.8453349  0.19972092]\n",
      " [0.7797336  0.29161322 0.40914375]]\n",
      "tensor([[0.6033, 0.8453, 0.1997],\n",
      "        [0.7797, 0.2916, 0.4091]])\n"
     ]
    }
   ],
   "source": [
    "x = x.numpy()\n",
    "print(x)\n",
    "x = torch.from_numpy(x)\n",
    "print(x)"
   ]
  },
  {
   "cell_type": "markdown",
   "metadata": {},
   "source": [
    "Finally, we can send this tensors to the GPU. This step is optional, since the calculations can be performed in the CPU, although using a GPU will make the training process faster. In order to do this, we first try to obtain the GPU"
   ]
  },
  {
   "cell_type": "code",
   "execution_count": 8,
   "metadata": {},
   "outputs": [
    {
     "name": "stdout",
     "output_type": "stream",
     "text": [
      "cpu\n"
     ]
    }
   ],
   "source": [
    "device = torch.device('cuda:0' if torch.cuda.is_available() else 'cpu')\n",
    "print(device)"
   ]
  },
  {
   "cell_type": "markdown",
   "metadata": {},
   "source": [
    "If we have installed PyTorch with CUDA and we have a compatible GPU, we should have obtained that device is cuda. Now, in order to send the tensors to the GPU, we just have to use the **to()** function. We can check if the tensor has been sent correctly to the GPU with **is_cuda**"
   ]
  },
  {
   "cell_type": "code",
   "execution_count": 9,
   "metadata": {},
   "outputs": [
    {
     "name": "stdout",
     "output_type": "stream",
     "text": [
      "False\n"
     ]
    }
   ],
   "source": [
    "x.to(device)\n",
    "print(x.is_cuda)"
   ]
  }
 ],
 "metadata": {
  "kernelspec": {
   "display_name": "Python 3",
   "language": "python",
   "name": "python3"
  },
  "language_info": {
   "codemirror_mode": {
    "name": "ipython",
    "version": 3
   },
   "file_extension": ".py",
   "mimetype": "text/x-python",
   "name": "python",
   "nbconvert_exporter": "python",
   "pygments_lexer": "ipython3",
   "version": "3.7.6"
  }
 },
 "nbformat": 4,
 "nbformat_minor": 2
}
